{
 "cells": [
  {
   "cell_type": "markdown",
   "metadata": {},
   "source": [
    "# Variational Autoencoder\n",
    "\n",
    "変分オートエンコーダ  \n",
    "変分は変分法の変分。\n",
    "\n",
    "潜在変数に任意の確率分布を指定できるオートエンコーダ。decoder部分を生成モデルとして使いやすくなる。\n",
    "\n",
    "<br>\n",
    "\n",
    "潜在変数に標準正規分布を仮定し、MNISTの画像を生成する。"
   ]
  },
  {
   "cell_type": "code",
   "execution_count": 1,
   "metadata": {},
   "outputs": [
    {
     "data": {
      "text/plain": [
       "device(type='cuda')"
      ]
     },
     "execution_count": 1,
     "metadata": {},
     "output_type": "execute_result"
    }
   ],
   "source": [
    "import torch\n",
    "from torch import nn, optim\n",
    "import torchvision\n",
    "from torchvision import datasets, transforms\n",
    "from torch.utils.data import DataLoader\n",
    "from IPython.display import display\n",
    "import matplotlib.pyplot as plt\n",
    "\n",
    "device = torch.device(\"cuda\" if torch.cuda.is_available() else \"cpu\")\n",
    "device"
   ]
  },
  {
   "cell_type": "markdown",
   "metadata": {},
   "source": [
    "## ネットワーク構築\n",
    "\n",
    "普通のオートエンコーダと異なる点がいくつかある\n",
    "\n",
    "- encoderが出力する値は、潜在変数そのものではなく、潜在変数が従う確率分布のパラメータとする\n",
    "- 今回は確率分布に正規分布を指定しているため、**平均**と**分散**の2種類の値を潜在変数の次元数分出力する\n",
    "- encoderが出力したパラメータに従って乱数を生成し、decoderに与える\n",
    "- 普通に乱数を生成すると逆伝播ができないので、少し工夫をして生成する。具体的には以下の流れに従う\n",
    "    - 標準正規分布に従って乱数を生成\n",
    "    - 分散を掛ける\n",
    "    - 平均に足す"
   ]
  },
  {
   "cell_type": "code",
   "execution_count": null,
   "metadata": {},
   "outputs": [],
   "source": [
    "class VAE(nn.Module):\n",
    "    def __init__(self, z_dim):\n",
    "        super().__init__()\n",
    "        self.z_dim = z_dim\n",
    "        self.encoder = nn.Sequential(\n",
    "            nn.Linear(784, 256),\n",
    "            nn.ReLU(),\n",
    "            nn.Linear(256, 128),\n",
    "            nn.ReLU(),\n",
    "            nn.Linear(128, 2 * z_dim),\n",
    "        )\n",
    "        self.decoder = nn.Sequential(\n",
    "            nn.Linear(z_dim, 128),\n",
    "            nn.ReLU(),\n",
    "            nn.Linear(128, 256),\n",
    "            nn.ReLU(),\n",
    "            nn.Linear(256, 784),\n",
    "            nn.Sigmoid(),\n",
    "        )\n",
    "\n",
    "    def forward(self, x):\n",
    "        z = self.encoder(x)\n",
    "        z_mean, z_log_var = z[:, :self.z_dim], z[:, self.z_dim:]\n",
    "        z = self.reparameterize(z_mean, z_log_var)\n",
    "        y = self.decoder(z)\n",
    "        return y, z_mean, z_log_var\n",
    "\n",
    "    def reparameterize(self, z_mean, z_log_var):\n",
    "        eps = torch.randn_like(z_log_var)\n",
    "        z = z_mean + torch.exp(z_log_var / 2) * eps\n",
    "        return z"
   ]
  },
  {
   "cell_type": "markdown",
   "metadata": {},
   "source": [
    "## 損失関数\n",
    "\n",
    "これをどう定義するかがポイント。\n",
    "\n",
    "学習の目的を考えてみる。\n",
    "- 入力と出力の差を最小化する\n",
    "- 潜在変数が標準正規分布に従うようにする"
   ]
  },
  {
   "cell_type": "markdown",
   "metadata": {},
   "source": [
    "### 単純な損失関数\n",
    "\n",
    "誰でもぱっと思いつきそうなことをやってみる。ただ、恐らくこれは一般的なやり方ではない。\n",
    "\n",
    "以下のような損失関数を定義する。\n",
    "\n",
    "$$\n",
    "E = \\frac{1}{N} \\sum_i (x_i - y_i)^2 + \\frac{1}{D} \\sum_i \\left( (0 - \\mu_i)^2 + (1 - \\sigma_i)^2 \\right)\n",
    "$$\n",
    "\n",
    "- $N$: 入出力の次元数\n",
    "- $D$: 潜在変数の次元数\n",
    "- $\\mu$: 潜在変数の平均\n",
    "- $\\sigma$:  潜在変数の分散\n",
    "\n",
    "入出力、平均、分散の差の平均二乗誤差をとっているだけ。  \n",
    "これを小さくするためには、入出力の差を小さくし、平均を0、分散を1に近づける必要がある。"
   ]
  },
  {
   "cell_type": "code",
   "execution_count": 6,
   "metadata": {},
   "outputs": [],
   "source": [
    "MSE = nn.MSELoss()\n",
    "def loss_func(y, x, z_mean, z_log_var):\n",
    "    zeros = torch.zeros_like(z_mean)\n",
    "    ones = torch.ones_like(z_log_var)\n",
    "    loss = MSE(y, x) + MSE(z_mean, zeros) + MSE(torch.exp(z_log_var), ones)\n",
    "    return loss"
   ]
  },
  {
   "cell_type": "code",
   "execution_count": null,
   "metadata": {},
   "outputs": [],
   "source": []
  }
 ],
 "metadata": {
  "kernelspec": {
   "display_name": "Python 3.9.7 ('.venv': venv)",
   "language": "python",
   "name": "python3"
  },
  "language_info": {
   "codemirror_mode": {
    "name": "ipython",
    "version": 3
   },
   "file_extension": ".py",
   "mimetype": "text/x-python",
   "name": "python",
   "nbconvert_exporter": "python",
   "pygments_lexer": "ipython3",
   "version": "3.9.7"
  },
  "orig_nbformat": 4,
  "vscode": {
   "interpreter": {
    "hash": "b205cb31dc50922e8f312e81c6efd1d2fb6128d518074d13001105f1bff371d6"
   }
  }
 },
 "nbformat": 4,
 "nbformat_minor": 2
}
